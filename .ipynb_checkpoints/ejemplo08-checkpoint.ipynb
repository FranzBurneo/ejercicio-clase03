{
 "cells": [
  {
   "cell_type": "code",
   "execution_count": 1,
   "id": "32bf7713-93e4-40a4-9f68-e19079904089",
   "metadata": {},
   "outputs": [],
   "source": [
    "import pandas as pd"
   ]
  },
  {
   "cell_type": "code",
   "execution_count": 2,
   "id": "184ecf60-d5d4-4597-9e28-574b63afc41c",
   "metadata": {},
   "outputs": [
    {
     "name": "stdout",
     "output_type": "stream",
     "text": [
      "count      9.000000\n",
      "mean       2.888889\n",
      "median     3.000000\n",
      "max        5.000000\n",
      "min        1.000000\n",
      "nunique    5.000000\n",
      "dtype: float64\n"
     ]
    }
   ],
   "source": [
    "\n",
    "# Crear una serie de ejemplo\n",
    "s = pd.Series([1, 2, 3, 4, 5, 5, 3, 2, 1, None])\n",
    "\n",
    "# Aplicar funciones de agregación con .agg\n",
    "result = s.agg(['count', 'mean', 'median', 'max', 'min', 'nunique'])\n",
    "print(result)"
   ]
  },
  {
   "cell_type": "code",
   "execution_count": 3,
   "id": "d97e84c7-65dc-4068-8966-30f7649cfc3b",
   "metadata": {},
   "outputs": [
    {
     "name": "stdout",
     "output_type": "stream",
     "text": [
      "                A     B\n",
      "count    9.000000   NaN\n",
      "mean     2.888889   NaN\n",
      "nunique  5.000000   NaN\n",
      "max           NaN  30.0\n",
      "min           NaN  10.0\n",
      "median        NaN  17.5\n"
     ]
    }
   ],
   "source": [
    "df = pd.DataFrame({\n",
    "    'A': [1, 2, 3, 4, 5, 5, 3, 2, 1, None],\n",
    "    'B': [10, 15, 10, 20, 25, 30, 25, 20, 10, 15]\n",
    "})\n",
    "\n",
    "# Agregaciones múltiples por columna\n",
    "agg_result = df.agg({\n",
    "    'A': ['count', 'mean', 'nunique'],\n",
    "    'B': ['max', 'min', 'median']\n",
    "})\n",
    "print(agg_result)\n"
   ]
  },
  {
   "cell_type": "code",
   "execution_count": 4,
   "id": "b32638a7-c2b2-4094-a130-045e1d683809",
   "metadata": {},
   "outputs": [
    {
     "name": "stdout",
     "output_type": "stream",
     "text": [
      "       valor_count  valor_median  peso_desv_abs  valor_minimo  tipo\n",
      "Grupo                                                              \n",
      "A                2          12.5       0.050000           1.1  True\n",
      "B                3          20.0       0.244444           1.5  True\n",
      "C                2          30.0       0.000000           2.5  True\n"
     ]
    }
   ],
   "source": [
    "import pandas as pd\n",
    "\n",
    "# Datos de ejemplo\n",
    "df = pd.DataFrame({\n",
    "    'Grupo': ['A', 'A', 'B', 'B', 'B', 'C', 'C'],\n",
    "    'Valor': [10, 15, 10, 20, 25, 30, 30],\n",
    "    'Peso': [1.1, 1.2, 1.5, 2.0, 2.1, 2.5, 2.5]\n",
    "})\n",
    "\n",
    "# Agregación con funciones estándar + lambda para mad\n",
    "resultado = df.groupby('Grupo').agg(\n",
    "    valor_count=('Valor', 'count'),     # cuenta el número de elementos en cada grupo en la columna 'Valor'\n",
    "    valor_median=('Valor', 'median'),  # calcula la mediana de los valores en la columna 'Valor' por grupo\n",
    "    \n",
    "    # calcula la desviación absoluta media de los valores en la columna 'Peso' por grupo.\n",
    "    # Este es un cálculo personalizado con una función lambda:\n",
    "    # (x - x.mean()) calcula la diferencia de cada valor respecto a la media,\n",
    "    # abs() toma el valor absoluto de esas diferencias, \n",
    "    # y mean() calcula la media de esas diferencias (esto es como .mad() en estadísticas).\n",
    "    peso_desv_abs=('Peso', lambda x: (x - x.mean()).abs().mean()),  # equivalente a .mad() \n",
    "    # calcula el valor mínimo en la columna 'Peso' por grupo\n",
    "    valor_minimo = ('Peso', 'min'),\n",
    "    # verifica si todos los valores en la columna 'Peso' son verdaderos (distintos de cero).\n",
    "    # 'all' devuelve True si todos los valores no son cero o NaN, de lo contrario False.\n",
    "    tipo = ('Peso', 'all'),\n",
    ")\n",
    "\n",
    "print(resultado)\n"
   ]
  },
  {
   "cell_type": "code",
   "execution_count": 8,
   "id": "d7f2bd86-3a66-49aa-b015-2a4f24216e41",
   "metadata": {},
   "outputs": [
    {
     "name": "stdout",
     "output_type": "stream",
     "text": [
      "Requirement already satisfied: matplotlib in e:\\proyectos\\ejercicio-clase03\\entorno\\lib\\site-packages (3.10.1)\n",
      "Requirement already satisfied: contourpy>=1.0.1 in e:\\proyectos\\ejercicio-clase03\\entorno\\lib\\site-packages (from matplotlib) (1.3.2)\n",
      "Requirement already satisfied: cycler>=0.10 in e:\\proyectos\\ejercicio-clase03\\entorno\\lib\\site-packages (from matplotlib) (0.12.1)\n",
      "Requirement already satisfied: fonttools>=4.22.0 in e:\\proyectos\\ejercicio-clase03\\entorno\\lib\\site-packages (from matplotlib) (4.57.0)\n",
      "Requirement already satisfied: kiwisolver>=1.3.1 in e:\\proyectos\\ejercicio-clase03\\entorno\\lib\\site-packages (from matplotlib) (1.4.8)\n",
      "Requirement already satisfied: numpy>=1.23 in e:\\proyectos\\ejercicio-clase03\\entorno\\lib\\site-packages (from matplotlib) (2.2.5)\n",
      "Requirement already satisfied: packaging>=20.0 in e:\\proyectos\\ejercicio-clase03\\entorno\\lib\\site-packages (from matplotlib) (25.0)\n",
      "Requirement already satisfied: pillow>=8 in e:\\proyectos\\ejercicio-clase03\\entorno\\lib\\site-packages (from matplotlib) (11.2.1)\n",
      "Requirement already satisfied: pyparsing>=2.3.1 in e:\\proyectos\\ejercicio-clase03\\entorno\\lib\\site-packages (from matplotlib) (3.2.3)\n",
      "Requirement already satisfied: python-dateutil>=2.7 in e:\\proyectos\\ejercicio-clase03\\entorno\\lib\\site-packages (from matplotlib) (2.9.0.post0)\n",
      "Requirement already satisfied: six>=1.5 in e:\\proyectos\\ejercicio-clase03\\entorno\\lib\\site-packages (from python-dateutil>=2.7->matplotlib) (1.17.0)\n",
      "Requirement already satisfied: seaborn in e:\\proyectos\\ejercicio-clase03\\entorno\\lib\\site-packages (0.13.2)\n",
      "Requirement already satisfied: numpy!=1.24.0,>=1.20 in e:\\proyectos\\ejercicio-clase03\\entorno\\lib\\site-packages (from seaborn) (2.2.5)\n",
      "Requirement already satisfied: pandas>=1.2 in e:\\proyectos\\ejercicio-clase03\\entorno\\lib\\site-packages (from seaborn) (2.2.3)\n",
      "Requirement already satisfied: matplotlib!=3.6.1,>=3.4 in e:\\proyectos\\ejercicio-clase03\\entorno\\lib\\site-packages (from seaborn) (3.10.1)\n",
      "Requirement already satisfied: contourpy>=1.0.1 in e:\\proyectos\\ejercicio-clase03\\entorno\\lib\\site-packages (from matplotlib!=3.6.1,>=3.4->seaborn) (1.3.2)\n",
      "Requirement already satisfied: cycler>=0.10 in e:\\proyectos\\ejercicio-clase03\\entorno\\lib\\site-packages (from matplotlib!=3.6.1,>=3.4->seaborn) (0.12.1)\n",
      "Requirement already satisfied: fonttools>=4.22.0 in e:\\proyectos\\ejercicio-clase03\\entorno\\lib\\site-packages (from matplotlib!=3.6.1,>=3.4->seaborn) (4.57.0)\n",
      "Requirement already satisfied: kiwisolver>=1.3.1 in e:\\proyectos\\ejercicio-clase03\\entorno\\lib\\site-packages (from matplotlib!=3.6.1,>=3.4->seaborn) (1.4.8)\n",
      "Requirement already satisfied: packaging>=20.0 in e:\\proyectos\\ejercicio-clase03\\entorno\\lib\\site-packages (from matplotlib!=3.6.1,>=3.4->seaborn) (25.0)\n",
      "Requirement already satisfied: pillow>=8 in e:\\proyectos\\ejercicio-clase03\\entorno\\lib\\site-packages (from matplotlib!=3.6.1,>=3.4->seaborn) (11.2.1)\n",
      "Requirement already satisfied: pyparsing>=2.3.1 in e:\\proyectos\\ejercicio-clase03\\entorno\\lib\\site-packages (from matplotlib!=3.6.1,>=3.4->seaborn) (3.2.3)\n",
      "Requirement already satisfied: python-dateutil>=2.7 in e:\\proyectos\\ejercicio-clase03\\entorno\\lib\\site-packages (from matplotlib!=3.6.1,>=3.4->seaborn) (2.9.0.post0)\n",
      "Requirement already satisfied: pytz>=2020.1 in e:\\proyectos\\ejercicio-clase03\\entorno\\lib\\site-packages (from pandas>=1.2->seaborn) (2025.2)\n",
      "Requirement already satisfied: tzdata>=2022.7 in e:\\proyectos\\ejercicio-clase03\\entorno\\lib\\site-packages (from pandas>=1.2->seaborn) (2025.2)\n",
      "Requirement already satisfied: six>=1.5 in e:\\proyectos\\ejercicio-clase03\\entorno\\lib\\site-packages (from python-dateutil>=2.7->matplotlib!=3.6.1,>=3.4->seaborn) (1.17.0)\n",
      "Requirement already satisfied: numpy in e:\\proyectos\\ejercicio-clase03\\entorno\\lib\\site-packages (2.2.5)\n"
     ]
    }
   ],
   "source": [
    "!pip install matplotlib\n",
    "!pip install seaborn\n",
    "!pip install numpy"
   ]
  },
  {
   "cell_type": "code",
   "execution_count": 9,
   "id": "dbedfde3-1c56-4a92-adaf-35d93067e9fc",
   "metadata": {},
   "outputs": [
    {
     "ename": "ModuleNotFoundError",
     "evalue": "No module named 'seaborn'",
     "output_type": "error",
     "traceback": [
      "\u001b[31m---------------------------------------------------------------------------\u001b[39m",
      "\u001b[31mModuleNotFoundError\u001b[39m                       Traceback (most recent call last)",
      "\u001b[36mCell\u001b[39m\u001b[36m \u001b[39m\u001b[32mIn[9]\u001b[39m\u001b[32m, line 3\u001b[39m\n\u001b[32m      1\u001b[39m \u001b[38;5;28;01mimport\u001b[39;00m\u001b[38;5;250m \u001b[39m\u001b[34;01mpandas\u001b[39;00m\u001b[38;5;250m \u001b[39m\u001b[38;5;28;01mas\u001b[39;00m\u001b[38;5;250m \u001b[39m\u001b[34;01mpd\u001b[39;00m\n\u001b[32m      2\u001b[39m \u001b[38;5;28;01mimport\u001b[39;00m\u001b[38;5;250m \u001b[39m\u001b[34;01mmatplotlib\u001b[39;00m\u001b[34;01m.\u001b[39;00m\u001b[34;01mpyplot\u001b[39;00m\u001b[38;5;250m \u001b[39m\u001b[38;5;28;01mas\u001b[39;00m\u001b[38;5;250m \u001b[39m\u001b[34;01mplt\u001b[39;00m\n\u001b[32m----> \u001b[39m\u001b[32m3\u001b[39m \u001b[38;5;28;01mimport\u001b[39;00m\u001b[38;5;250m \u001b[39m\u001b[34;01mseaborn\u001b[39;00m\u001b[38;5;250m \u001b[39m\u001b[38;5;28;01mas\u001b[39;00m\u001b[38;5;250m \u001b[39m\u001b[34;01msns\u001b[39;00m\n\u001b[32m      4\u001b[39m \u001b[38;5;28;01mimport\u001b[39;00m\u001b[38;5;250m \u001b[39m\u001b[34;01mnumpy\u001b[39;00m\u001b[38;5;250m \u001b[39m\u001b[38;5;28;01mas\u001b[39;00m\u001b[38;5;250m \u001b[39m\u001b[34;01mnp\u001b[39;00m\n\u001b[32m      5\u001b[39m \u001b[38;5;28;01mimport\u001b[39;00m\u001b[38;5;250m \u001b[39m\u001b[34;01mmatplotlib\u001b[39;00m\u001b[34;01m.\u001b[39;00m\u001b[34;01mticker\u001b[39;00m\u001b[38;5;250m \u001b[39m\u001b[38;5;28;01mas\u001b[39;00m\u001b[38;5;250m \u001b[39m\u001b[34;01mmtick\u001b[39;00m\n",
      "\u001b[31mModuleNotFoundError\u001b[39m: No module named 'seaborn'"
     ]
    }
   ],
   "source": [
    "import pandas as pd\n",
    "import matplotlib.pyplot as plt\n",
    "import seaborn as sns\n",
    "import numpy as np\n",
    "import matplotlib.ticker as mtick\n",
    "# import ace_tools as tools\n",
    "\n",
    "# Crear el DataFrame original\n",
    "df = pd.DataFrame({\n",
    "    'Grupo': ['A', 'A', 'B', 'B', 'B', 'C', 'C'],\n",
    "    'Valor': [10, 15, 10, 20, 25, 30, 30],\n",
    "    'Peso': [1.1, 1.2, 1.5, 2.0, 2.1, 2.5, 2.5]\n",
    "})\n",
    "\n",
    "# Agrupación y estadísticas\n",
    "resultado = df.groupby('Grupo').agg(\n",
    "    valor_count=('Valor', 'count'),\n",
    "    valor_median=('Valor', 'median'),\n",
    "    peso_desv_abs=('Peso', lambda x: (x - x.mean()).abs().mean()),\n",
    "    valor_minimo=('Peso', 'min'),\n",
    "    tipo=('Peso', 'all')\n",
    ").reset_index()\n",
    "\n",
    "# Gráficos\n",
    "fig, axs = plt.subplots(2, 2, figsize=(14, 10))\n",
    "sns.set(style=\"whitegrid\")\n",
    "\n",
    "# Gráfico 1: Conteo de alumnos por grupo\n",
    "sns.barplot(x='Grupo', y='valor_count', hue='Grupo', data=resultado, palette='deep', ax=axs[0, 0])\n",
    "axs[0, 0].set_title('Número de estudiantes por grupo')\n",
    "axs[0, 0].set_ylabel('Cantidad de estudiantes')\n",
    "\n",
    "# Gráfico 2: Mediana de valor por grupo\n",
    "sns.barplot(x='Grupo', y='valor_median', hue='Grupo', data=resultado, palette='muted', ax=axs[0, 1])\n",
    "axs[0, 1].set_title('Nota mediana por grupo')\n",
    "axs[0, 1].set_ylabel('Nota mediana')\n",
    "\n",
    "# Gráfico 3: Desviación absoluta media del peso\n",
    "sns.barplot(x='Grupo', y='peso_desv_abs', hue='Grupo', data=resultado, palette='pastel', ax=axs[1, 0])\n",
    "axs[1, 0].set_title('Desviación absoluta media del peso')\n",
    "axs[1, 0].set_ylabel('Desviación media')\n",
    "\n",
    "# Gráfico 4: Peso mínimo\n",
    "sns.barplot(x='Grupo', y='valor_minimo', hue='Grupo', data=resultado, palette='dark', ax=axs[1, 1])\n",
    "axs[1, 1].set_title('Peso mínimo por grupo')\n",
    "axs[1, 1].set_ylabel('Peso mínimo')\n",
    "\n",
    "plt.tight_layout()\n",
    "plt.show()"
   ]
  },
  {
   "cell_type": "code",
   "execution_count": 5,
   "id": "f80bd450-a96e-4a63-b7eb-65486e5ddceb",
   "metadata": {},
   "outputs": [
    {
     "ename": "ModuleNotFoundError",
     "evalue": "No module named 'seaborn'",
     "output_type": "error",
     "traceback": [
      "\u001b[31m---------------------------------------------------------------------------\u001b[39m",
      "\u001b[31mModuleNotFoundError\u001b[39m                       Traceback (most recent call last)",
      "\u001b[36mCell\u001b[39m\u001b[36m \u001b[39m\u001b[32mIn[5]\u001b[39m\u001b[32m, line 3\u001b[39m\n\u001b[32m      1\u001b[39m \u001b[38;5;28;01mimport\u001b[39;00m\u001b[38;5;250m \u001b[39m\u001b[34;01mpandas\u001b[39;00m\u001b[38;5;250m \u001b[39m\u001b[38;5;28;01mas\u001b[39;00m\u001b[38;5;250m \u001b[39m\u001b[34;01mpd\u001b[39;00m\n\u001b[32m      2\u001b[39m \u001b[38;5;28;01mimport\u001b[39;00m\u001b[38;5;250m \u001b[39m\u001b[34;01mmatplotlib\u001b[39;00m\u001b[34;01m.\u001b[39;00m\u001b[34;01mpyplot\u001b[39;00m\u001b[38;5;250m \u001b[39m\u001b[38;5;28;01mas\u001b[39;00m\u001b[38;5;250m \u001b[39m\u001b[34;01mplt\u001b[39;00m\n\u001b[32m----> \u001b[39m\u001b[32m3\u001b[39m \u001b[38;5;28;01mimport\u001b[39;00m\u001b[38;5;250m \u001b[39m\u001b[34;01mseaborn\u001b[39;00m\u001b[38;5;250m \u001b[39m\u001b[38;5;28;01mas\u001b[39;00m\u001b[38;5;250m \u001b[39m\u001b[34;01msns\u001b[39;00m\n\u001b[32m      4\u001b[39m \u001b[38;5;28;01mimport\u001b[39;00m\u001b[38;5;250m \u001b[39m\u001b[34;01mnumpy\u001b[39;00m\u001b[38;5;250m \u001b[39m\u001b[38;5;28;01mas\u001b[39;00m\u001b[38;5;250m \u001b[39m\u001b[34;01mnp\u001b[39;00m\n\u001b[32m      5\u001b[39m \u001b[38;5;28;01mimport\u001b[39;00m\u001b[38;5;250m \u001b[39m\u001b[34;01mmatplotlib\u001b[39;00m\u001b[34;01m.\u001b[39;00m\u001b[34;01mticker\u001b[39;00m\u001b[38;5;250m \u001b[39m\u001b[38;5;28;01mas\u001b[39;00m\u001b[38;5;250m \u001b[39m\u001b[34;01mmtick\u001b[39;00m\n",
      "\u001b[31mModuleNotFoundError\u001b[39m: No module named 'seaborn'"
     ]
    }
   ],
   "source": [
    "import pandas as pd\n",
    "import matplotlib.pyplot as plt\n",
    "import seaborn as sns\n",
    "import numpy as np\n",
    "import matplotlib.ticker as mtick\n",
    "# import ace_tools as tools\n",
    "\n",
    "# Crear el DataFrame original\n",
    "df = pd.DataFrame({\n",
    "    'Grupo': ['A', 'A', 'B', 'B', 'B', 'C', 'C'],\n",
    "    'Valor': [10, 15, 10, 20, 25, 30, 30],\n",
    "    'Peso': [1.1, 1.2, 1.5, 2.0, 2.1, 2.5, 2.5]\n",
    "})\n",
    "\n",
    "# Agrupación y estadísticas\n",
    "resultado = df.groupby('Grupo').agg(\n",
    "    valor_count=('Valor', 'count'),\n",
    "    valor_median=('Valor', 'median'),\n",
    "    peso_desv_abs=('Peso', lambda x: (x - x.mean()).abs().mean()),\n",
    "    valor_minimo=('Peso', 'min'),\n",
    "    tipo=('Peso', 'all')\n",
    ").reset_index()\n",
    "\n",
    "# Gráficos\n",
    "fig, axs = plt.subplots(2, 2, figsize=(14, 10))\n",
    "sns.set(style=\"whitegrid\")\n",
    "\n",
    "# Gráfico 1: Conteo de alumnos por grupo\n",
    "sns.barplot(x='Grupo', y='valor_count', hue='Grupo', data=resultado, palette='deep', ax=axs[0, 0])\n",
    "axs[0, 0].set_title('Número de estudiantes por grupo')\n",
    "axs[0, 0].set_ylabel('Cantidad de estudiantes')\n",
    "\n",
    "# Gráfico 2: Mediana de valor por grupo\n",
    "sns.barplot(x='Grupo', y='valor_median', hue='Grupo', data=resultado, palette='muted', ax=axs[0, 1])\n",
    "axs[0, 1].set_title('Nota mediana por grupo')\n",
    "axs[0, 1].set_ylabel('Nota mediana')\n",
    "\n",
    "# Gráfico 3: Desviación absoluta media del peso\n",
    "sns.barplot(x='Grupo', y='peso_desv_abs', hue='Grupo', data=resultado, palette='pastel', ax=axs[1, 0])\n",
    "axs[1, 0].set_title('Desviación absoluta media del peso')\n",
    "axs[1, 0].set_ylabel('Desviación media')\n",
    "\n",
    "# Gráfico 4: Peso mínimo\n",
    "sns.barplot(x='Grupo', y='valor_minimo', hue='Grupo', data=resultado, palette='dark', ax=axs[1, 1])\n",
    "axs[1, 1].set_title('Peso mínimo por grupo')\n",
    "axs[1, 1].set_ylabel('Peso mínimo')\n",
    "\n",
    "plt.tight_layout()\n",
    "plt.show()"
   ]
  },
  {
   "cell_type": "code",
   "execution_count": null,
   "id": "33c0c8e9-a551-412d-89d2-f57bf1a63581",
   "metadata": {},
   "outputs": [],
   "source": []
  }
 ],
 "metadata": {
  "kernelspec": {
   "display_name": "Python 3 (ipykernel)",
   "language": "python",
   "name": "python3"
  },
  "language_info": {
   "codemirror_mode": {
    "name": "ipython",
    "version": 3
   },
   "file_extension": ".py",
   "mimetype": "text/x-python",
   "name": "python",
   "nbconvert_exporter": "python",
   "pygments_lexer": "ipython3",
   "version": "3.11.0"
  }
 },
 "nbformat": 4,
 "nbformat_minor": 5
}
